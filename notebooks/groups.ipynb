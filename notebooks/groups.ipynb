{
 "cells": [
  {
   "cell_type": "code",
   "execution_count": 42,
   "metadata": {},
   "outputs": [],
   "source": [
    "import bisect\n",
    "from collections import defaultdict\n",
    "from operator import itemgetter\n",
    "import json"
   ]
  },
  {
   "cell_type": "code",
   "execution_count": 1,
   "metadata": {},
   "outputs": [],
   "source": [
    "with open(\"../data/words.txt\") as f:\n",
    "    words = f.read().splitlines()"
   ]
  },
  {
   "cell_type": "code",
   "execution_count": 5,
   "metadata": {},
   "outputs": [
    {
     "data": {
      "text/plain": [
       "'dichlorodiphenyltrichloroethane'"
      ]
     },
     "execution_count": 5,
     "metadata": {},
     "output_type": "execute_result"
    }
   ],
   "source": [
    "max(words, key=len)"
   ]
  },
  {
   "cell_type": "code",
   "execution_count": 6,
   "metadata": {},
   "outputs": [],
   "source": [
    "lens = [len(w) for w in words]"
   ]
  },
  {
   "cell_type": "code",
   "execution_count": 21,
   "metadata": {},
   "outputs": [],
   "source": [
    "lookup = defaultdict(lambda: defaultdict(list))\n",
    "\n",
    "for word in words:\n",
    "    first_and_last = word[0] + word[-1]\n",
    "    lookup[first_and_last][len(word)].append(word)\n",
    "    "
   ]
  },
  {
   "cell_type": "code",
   "execution_count": 48,
   "metadata": {},
   "outputs": [],
   "source": [
    "def save_word_group(group):\n",
    "    word_group = lookup[group]\n",
    "    output = { \"wordsByLength\": [] }\n",
    "\n",
    "    for length, ws in word_group.items():\n",
    "        output[\"wordsByLength\"].append({ \"length\": length, \"words\": ws })\n",
    "\n",
    "    output[\"wordsByLength\"].sort(key=itemgetter(\"length\"), reverse=True)\n",
    "    \n",
    "    with open(f\"../json/{group}.json\", \"w+\") as f:\n",
    "        json.dump(output, f)"
   ]
  },
  {
   "cell_type": "code",
   "execution_count": 51,
   "metadata": {},
   "outputs": [],
   "source": [
    "LETTERS = ['a', 'b', 'c', 'd', 'e', 'f', 'g', 'h', 'i', 'j', 'k', 'l', 'm', 'n', 'o', 'p', 'q', 'r', 's', 't', 'u', 'v', 'w', 'x', 'y', 'z']\n",
    "¬\n",
    "for first in LETTERS:\n",
    "    for last in LETTERS:\n",
    "        save_word_group(first + last)"
   ]
  },
  {
   "cell_type": "code",
   "execution_count": 56,
   "metadata": {},
   "outputs": [],
   "source": [
    "def save_word_group_text(group):\n",
    "    word_group = lookup[group]\n",
    "    output = { \"wordsByLength\": [] }\n",
    "\n",
    "    for length, ws in word_group.items():\n",
    "        output[\"wordsByLength\"].append({ \"length\": length, \"words\": ws })\n",
    "\n",
    "    output[\"wordsByLength\"].sort(key=itemgetter(\"length\"), reverse=True)\n",
    "    \n",
    "    output_list = [word for entry in output[\"wordsByLength\"] for word in entry[\"words\"]]\n",
    "    \n",
    "    with open(f\"../text/{group}.txt\", \"w+\") as f:\n",
    "        f.write(\"\\n\".join(output_list))"
   ]
  },
  {
   "cell_type": "code",
   "execution_count": 59,
   "metadata": {},
   "outputs": [],
   "source": [
    "for first in LETTERS:\n",
    "    for last in LETTERS:\n",
    "        save_word_group_text(first + last)"
   ]
  },
  {
   "cell_type": "code",
   "execution_count": null,
   "metadata": {},
   "outputs": [],
   "source": []
  }
 ],
 "metadata": {
  "kernelspec": {
   "display_name": "Python 3",
   "language": "python",
   "name": "python3"
  },
  "language_info": {
   "codemirror_mode": {
    "name": "ipython",
    "version": 3
   },
   "file_extension": ".py",
   "mimetype": "text/x-python",
   "name": "python",
   "nbconvert_exporter": "python",
   "pygments_lexer": "ipython3",
   "version": "3.7.1"
  }
 },
 "nbformat": 4,
 "nbformat_minor": 4
}
